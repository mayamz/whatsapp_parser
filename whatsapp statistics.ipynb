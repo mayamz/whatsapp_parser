{
 "cells": [
  {
   "cell_type": "markdown",
   "id": "divided-hayes",
   "metadata": {},
   "source": [
    "# Loading"
   ]
  },
  {
   "cell_type": "code",
   "execution_count": null,
   "id": "collect-onion",
   "metadata": {},
   "outputs": [],
   "source": [
    "from whatsapp import *\n",
    "import regex\n",
    "import warnings\n",
    "\n",
    "warnings.filterwarnings('ignore')"
   ]
  },
  {
   "cell_type": "code",
   "execution_count": null,
   "id": "fatal-value",
   "metadata": {},
   "outputs": [],
   "source": [
    "path = \"/Users/mayam/Downloads/chats/WhatsApp Chat with \"\n",
    "name = \"תומר של רינת\""
   ]
  },
  {
   "cell_type": "code",
   "execution_count": null,
   "id": "exposed-substitute",
   "metadata": {},
   "outputs": [],
   "source": [
    "with open(path+name+\".txt\", encoding=\"utf-8\") as f:\n",
    "    contents = f.read()\n",
    "\n",
    "if re.search(r'^(\\d{0,2}\\/\\d{0,2}\\/\\d{2}\\, \\d{1,2}:\\d{2}) - (.*?): (.*)$', contents,re.M):\n",
    "    chat = parse_apple_chat(contents)\n",
    "else:\n",
    "    chat = parse_android_chat(contents)\n",
    "\n",
    "chattext = format_for_pandas(chat)\n",
    "df = pd.DataFrame(chattext)"
   ]
  },
  {
   "cell_type": "markdown",
   "id": "atlantic-violation",
   "metadata": {},
   "source": [
    "# Counters"
   ]
  },
  {
   "cell_type": "code",
   "execution_count": null,
   "id": "visible-durham",
   "metadata": {},
   "outputs": [],
   "source": [
    "by_author = df.groupby(\"author\").count()\n",
    "print(\"messages by author\")\n",
    "print(by_author.iloc[:,1])"
   ]
  },
  {
   "cell_type": "code",
   "execution_count": null,
   "id": "approximate-frank",
   "metadata": {},
   "outputs": [],
   "source": [
    "print (\"words by author\")\n",
    "for author in Message.authors:\n",
    "    authors_words = \" \".join(df[df['author'] == author][\"text\"]).split()  # Filter here if you want to remove \"yes\" and whatever\n",
    "    print(author+\":\",len(authors_words))"
   ]
  },
  {
   "cell_type": "code",
   "execution_count": null,
   "id": "quiet-scanner",
   "metadata": {},
   "outputs": [],
   "source": [
    "print (\"questions count\")\n",
    "questions_count = count_questions(df)\n",
    "print(questions_count.iloc[:,1])"
   ]
  },
  {
   "cell_type": "code",
   "execution_count": null,
   "id": "floating-mechanics",
   "metadata": {},
   "outputs": [],
   "source": [
    "print (\"how many hi\")\n",
    "df = remove_punctuation(df)\n",
    "with_word = count_word(df, \"היי\")\n",
    "print(with_word.iloc[:,0])"
   ]
  },
  {
   "cell_type": "code",
   "execution_count": null,
   "id": "fifty-royalty",
   "metadata": {},
   "outputs": [],
   "source": [
    "print (\"how many hhhh\")\n",
    "with_hhh = count_haha(df)\n",
    "print(with_hhh.iloc[:,0])"
   ]
  },
  {
   "cell_type": "code",
   "execution_count": null,
   "id": "eligible-shade",
   "metadata": {},
   "outputs": [],
   "source": [
    "print (\"emoji count\")\n",
    "emoji_count = count_emoji(df)\n",
    "print(emoji_count.iloc[:,1])"
   ]
  },
  {
   "cell_type": "code",
   "execution_count": null,
   "id": "unexpected-sandwich",
   "metadata": {},
   "outputs": [],
   "source": [
    "print (\"curses count\")\n",
    "curses_counter = count_curses(df)"
   ]
  },
  {
   "cell_type": "code",
   "execution_count": null,
   "id": "unusual-brain",
   "metadata": {},
   "outputs": [],
   "source": [
    "curses_counter"
   ]
  },
  {
   "cell_type": "code",
   "execution_count": null,
   "id": "settled-tiger",
   "metadata": {},
   "outputs": [],
   "source": [
    "print (\"words by author\")\n",
    "for author in Message.authors:\n",
    "    authors_words = \" \".join(df[df['author'] == author][\"text\"]).split()  # Filter here if you want to remove \"yes\" and whatever\n",
    "    most_used_words = Counter(authors_words).most_common(5)\n",
    "    print (author,\":\")\n",
    "    for x in most_used_words:\n",
    "        print (x[0],\" - \", x[1])"
   ]
  },
  {
   "cell_type": "markdown",
   "id": "eleven-radar",
   "metadata": {},
   "source": [
    "# Graphs"
   ]
  },
  {
   "cell_type": "code",
   "execution_count": null,
   "id": "active-reynolds",
   "metadata": {},
   "outputs": [],
   "source": [
    "by_author.plot.barh()\n",
    "plt.title(\"messages by author\")\n",
    "plt.show()"
   ]
  },
  {
   "cell_type": "code",
   "execution_count": null,
   "id": "outside-analyst",
   "metadata": {},
   "outputs": [],
   "source": [
    "df = df.iloc[:,:-1]\n",
    "\n",
    "by_month = df.groupby([pd.Grouper(freq='M', key='date'), 'author']).count()\n",
    "fig, ax = plt.subplots(figsize=(15, 7))\n",
    "by_month.unstack().plot(ax=ax)\n",
    "plt.ylim(0, plt.ylim()[1])\n",
    "plt.show()"
   ]
  },
  {
   "cell_type": "code",
   "execution_count": null,
   "id": "attractive-bones",
   "metadata": {},
   "outputs": [],
   "source": [
    "by_day = df.groupby([((df[\"date\"].dt.weekday+1)%7)+1, 'author']).count()[['text']]\n",
    "fig, ax = plt.subplots(figsize=(15, 7))\n",
    "by_day.unstack().plot(ax=ax)\n",
    "plt.title(\"by day of the week\")\n",
    "plt.ylim(0, plt.ylim()[1])\n",
    "plt.xlim(1,7)\n",
    "plt.show()"
   ]
  },
  {
   "cell_type": "code",
   "execution_count": null,
   "id": "outside-sheriff",
   "metadata": {},
   "outputs": [],
   "source": [
    "by_hour = df.groupby([df[\"date\"].dt.hour, 'author']).count()[['text']]\n",
    "fig, ax = plt.subplots(figsize=(15, 7))\n",
    "by_hour.unstack().plot(ax=ax)\n",
    "plt.xlabel(\"hour\")\n",
    "plt.xticks(np.arange(0, 24, 1))\n",
    "plt.xlim(0, 23)\n",
    "plt.ylim(0, plt.ylim()[1])\n",
    "plt.title(\"by hour\")\n",
    "plt.show()"
   ]
  },
  {
   "cell_type": "code",
   "execution_count": null,
   "id": "accredited-agriculture",
   "metadata": {},
   "outputs": [],
   "source": [
    "\"\"\"Create and generate a word cloud image:\"\"\"\n",
    "ax.get_legend().remove()\n",
    "for author in Message.authors:\n",
    "    author_text = get_display(clean_text(\" \".join(text for text in (df[df['author'] == author][\"text\"]))))\n",
    "    wordcloud = WordCloud(font_path='//C:/Windows/Fonts/calibri.ttf').generate(author_text)\n",
    "    plt.imshow(wordcloud, interpolation='bilinear')\n",
    "    plt.title(author+\"'s word cloud\")\n",
    "    plt.axis(\"off\")\n",
    "    plt.show()"
   ]
  }
 ],
 "metadata": {
  "kernelspec": {
   "display_name": "Python 3",
   "language": "python",
   "name": "python3"
  },
  "language_info": {
   "codemirror_mode": {
    "name": "ipython",
    "version": 3
   },
   "file_extension": ".py",
   "mimetype": "text/x-python",
   "name": "python",
   "nbconvert_exporter": "python",
   "pygments_lexer": "ipython3",
   "version": "3.8.5"
  }
 },
 "nbformat": 4,
 "nbformat_minor": 5
}
